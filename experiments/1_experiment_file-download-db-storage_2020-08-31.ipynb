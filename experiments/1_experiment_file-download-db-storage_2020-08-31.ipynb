{
 "cells": [
  {
   "cell_type": "markdown",
   "metadata": {},
   "source": [
    "# Part 1: File Download, Database Storage"
   ]
  },
  {
   "cell_type": "markdown",
   "metadata": {},
   "source": [
    "## Import relevant libraries"
   ]
  },
  {
   "cell_type": "code",
   "execution_count": 25,
   "metadata": {},
   "outputs": [],
   "source": [
    "import pandas as pd\n",
    "import csv\n",
    "import requests\n",
    "from bs4 import BeautifulSoup"
   ]
  },
  {
   "cell_type": "markdown",
   "metadata": {},
   "source": [
    "## Edit the Pipe Delimited 510k text database"
   ]
  },
  {
   "cell_type": "code",
   "execution_count": 26,
   "metadata": {},
   "outputs": [],
   "source": [
    "read_file = open('/Users/kevinmcpherson/tractus/text_data/510k.txt','rt', errors = 'ignore')"
   ]
  },
  {
   "cell_type": "code",
   "execution_count": 27,
   "metadata": {},
   "outputs": [],
   "source": [
    "write_file = open('/Users/kevinmcpherson/tractus/csv_data/510k.csv', 'w+t', encoding= 'utf8')"
   ]
  },
  {
   "cell_type": "code",
   "execution_count": 28,
   "metadata": {},
   "outputs": [],
   "source": [
    "with read_file:\n",
    "    with write_file:\n",
    "        csv.writer(write_file, delimiter=',').writerows(csv.reader(read_file, delimiter='|'))"
   ]
  },
  {
   "cell_type": "markdown",
   "metadata": {},
   "source": [
    "## Reassign Write File to DataFrame and Get K-Numbers"
   ]
  },
  {
   "cell_type": "code",
   "execution_count": 29,
   "metadata": {},
   "outputs": [],
   "source": [
    "knumbers = pd.read_csv('/Users/kevinmcpherson/tractus/csv_data/510k.csv')"
   ]
  },
  {
   "cell_type": "code",
   "execution_count": 30,
   "metadata": {},
   "outputs": [
    {
     "data": {
      "text/html": [
       "<div>\n",
       "<style scoped>\n",
       "    .dataframe tbody tr th:only-of-type {\n",
       "        vertical-align: middle;\n",
       "    }\n",
       "\n",
       "    .dataframe tbody tr th {\n",
       "        vertical-align: top;\n",
       "    }\n",
       "\n",
       "    .dataframe thead th {\n",
       "        text-align: right;\n",
       "    }\n",
       "</style>\n",
       "<table border=\"1\" class=\"dataframe\">\n",
       "  <thead>\n",
       "    <tr style=\"text-align: right;\">\n",
       "      <th></th>\n",
       "      <th>KNUMBER</th>\n",
       "      <th>APPLICANT</th>\n",
       "      <th>CONTACT</th>\n",
       "      <th>STREET1</th>\n",
       "      <th>STREET2</th>\n",
       "      <th>CITY</th>\n",
       "      <th>STATE</th>\n",
       "      <th>COUNTRY_CODE</th>\n",
       "      <th>ZIP</th>\n",
       "      <th>POSTAL_CODE</th>\n",
       "      <th>...</th>\n",
       "      <th>DECISION</th>\n",
       "      <th>REVIEWADVISECOMM</th>\n",
       "      <th>PRODUCTCODE</th>\n",
       "      <th>STATEORSUMM</th>\n",
       "      <th>CLASSADVISECOMM</th>\n",
       "      <th>SSPINDICATOR</th>\n",
       "      <th>TYPE</th>\n",
       "      <th>THIRDPARTY</th>\n",
       "      <th>EXPEDITEDREVIEW</th>\n",
       "      <th>DEVICENAME</th>\n",
       "    </tr>\n",
       "  </thead>\n",
       "  <tbody>\n",
       "    <tr>\n",
       "      <th>0</th>\n",
       "      <td>DEN000001</td>\n",
       "      <td>OHMEDA MEDICAL</td>\n",
       "      <td>DANIEL  KOSEDNAR</td>\n",
       "      <td>P.O. BOX 7550</td>\n",
       "      <td>NaN</td>\n",
       "      <td>MADISON</td>\n",
       "      <td>WI</td>\n",
       "      <td>US</td>\n",
       "      <td>53707-7550</td>\n",
       "      <td>53707-7550</td>\n",
       "      <td>...</td>\n",
       "      <td>DENG</td>\n",
       "      <td>AN</td>\n",
       "      <td>MRN</td>\n",
       "      <td>NaN</td>\n",
       "      <td>AN</td>\n",
       "      <td>NaN</td>\n",
       "      <td>Post-NSE</td>\n",
       "      <td>N</td>\n",
       "      <td>NaN</td>\n",
       "      <td>OHMEDA INOVENT DELIVERY SYSTEM</td>\n",
       "    </tr>\n",
       "    <tr>\n",
       "      <th>1</th>\n",
       "      <td>K000001</td>\n",
       "      <td>BOSTON SCIENTIFIC SCIMED, INC.</td>\n",
       "      <td>RON  BENNETT</td>\n",
       "      <td>5905 NATHAN LN.</td>\n",
       "      <td>NaN</td>\n",
       "      <td>MINNEAPOLIS</td>\n",
       "      <td>MN</td>\n",
       "      <td>US</td>\n",
       "      <td>55442</td>\n",
       "      <td>55442</td>\n",
       "      <td>...</td>\n",
       "      <td>SESE</td>\n",
       "      <td>SU</td>\n",
       "      <td>JCT</td>\n",
       "      <td>Summary</td>\n",
       "      <td>SU</td>\n",
       "      <td>NaN</td>\n",
       "      <td>Traditional</td>\n",
       "      <td>N</td>\n",
       "      <td>NaN</td>\n",
       "      <td>WALLGRAFT TRACHEOBRONCHIAL ENDOPROSTHESIS AND ...</td>\n",
       "    </tr>\n",
       "    <tr>\n",
       "      <th>2</th>\n",
       "      <td>DEN000002</td>\n",
       "      <td>UROSURGE, INC.</td>\n",
       "      <td>STEVEN J PREISS</td>\n",
       "      <td>2660 CROSSPARK RD.</td>\n",
       "      <td>NaN</td>\n",
       "      <td>CORALVILLE</td>\n",
       "      <td>IA</td>\n",
       "      <td>US</td>\n",
       "      <td>52241</td>\n",
       "      <td>52241</td>\n",
       "      <td>...</td>\n",
       "      <td>DENG</td>\n",
       "      <td>GU</td>\n",
       "      <td>NAM</td>\n",
       "      <td>NaN</td>\n",
       "      <td>GU</td>\n",
       "      <td>NaN</td>\n",
       "      <td>Post-NSE</td>\n",
       "      <td>N</td>\n",
       "      <td>NaN</td>\n",
       "      <td>UROSURGE PERCUTANEOUS SANS (STOLLER AFFERENT N...</td>\n",
       "    </tr>\n",
       "    <tr>\n",
       "      <th>3</th>\n",
       "      <td>K000002</td>\n",
       "      <td>USA INSTRUMENTS, INC.</td>\n",
       "      <td>RONY  THOMAS</td>\n",
       "      <td>1515 DANNER DR.</td>\n",
       "      <td>NaN</td>\n",
       "      <td>AURORA</td>\n",
       "      <td>OH</td>\n",
       "      <td>US</td>\n",
       "      <td>44202</td>\n",
       "      <td>44202</td>\n",
       "      <td>...</td>\n",
       "      <td>SESE</td>\n",
       "      <td>RA</td>\n",
       "      <td>MOS</td>\n",
       "      <td>Summary</td>\n",
       "      <td>RA</td>\n",
       "      <td>NaN</td>\n",
       "      <td>Traditional</td>\n",
       "      <td>N</td>\n",
       "      <td>NaN</td>\n",
       "      <td>MAGNA 5000 PHASED ARRAY CTL SPINE COIL</td>\n",
       "    </tr>\n",
       "    <tr>\n",
       "      <th>4</th>\n",
       "      <td>K000003</td>\n",
       "      <td>TORNIER</td>\n",
       "      <td>DAVID W SCHLERF</td>\n",
       "      <td>200 GREGORY LN.</td>\n",
       "      <td>SUITE C-100</td>\n",
       "      <td>PLEASANT HILL</td>\n",
       "      <td>CA</td>\n",
       "      <td>US</td>\n",
       "      <td>94523-3389</td>\n",
       "      <td>94523-3389</td>\n",
       "      <td>...</td>\n",
       "      <td>SESE</td>\n",
       "      <td>OR</td>\n",
       "      <td>JDC</td>\n",
       "      <td>Summary</td>\n",
       "      <td>OR</td>\n",
       "      <td>NaN</td>\n",
       "      <td>Traditional</td>\n",
       "      <td>N</td>\n",
       "      <td>NaN</td>\n",
       "      <td>TORNIER TOTAL ELBOW PROSTHESIS</td>\n",
       "    </tr>\n",
       "  </tbody>\n",
       "</table>\n",
       "<p>5 rows × 22 columns</p>\n",
       "</div>"
      ],
      "text/plain": [
       "     KNUMBER                       APPLICANT           CONTACT  \\\n",
       "0  DEN000001                  OHMEDA MEDICAL  DANIEL  KOSEDNAR   \n",
       "1    K000001  BOSTON SCIENTIFIC SCIMED, INC.      RON  BENNETT   \n",
       "2  DEN000002                  UROSURGE, INC.   STEVEN J PREISS   \n",
       "3    K000002           USA INSTRUMENTS, INC.      RONY  THOMAS   \n",
       "4    K000003                         TORNIER   DAVID W SCHLERF   \n",
       "\n",
       "              STREET1      STREET2           CITY STATE COUNTRY_CODE  \\\n",
       "0       P.O. BOX 7550          NaN        MADISON    WI           US   \n",
       "1     5905 NATHAN LN.          NaN    MINNEAPOLIS    MN           US   \n",
       "2  2660 CROSSPARK RD.          NaN     CORALVILLE    IA           US   \n",
       "3     1515 DANNER DR.          NaN         AURORA    OH           US   \n",
       "4     200 GREGORY LN.  SUITE C-100  PLEASANT HILL    CA           US   \n",
       "\n",
       "          ZIP POSTAL_CODE  ... DECISION REVIEWADVISECOMM PRODUCTCODE  \\\n",
       "0  53707-7550  53707-7550  ...     DENG               AN         MRN   \n",
       "1       55442       55442  ...     SESE               SU         JCT   \n",
       "2       52241       52241  ...     DENG               GU         NAM   \n",
       "3       44202       44202  ...     SESE               RA         MOS   \n",
       "4  94523-3389  94523-3389  ...     SESE               OR         JDC   \n",
       "\n",
       "  STATEORSUMM CLASSADVISECOMM SSPINDICATOR         TYPE  THIRDPARTY  \\\n",
       "0         NaN              AN          NaN     Post-NSE           N   \n",
       "1     Summary              SU          NaN  Traditional           N   \n",
       "2         NaN              GU          NaN     Post-NSE           N   \n",
       "3     Summary              RA          NaN  Traditional           N   \n",
       "4     Summary              OR          NaN  Traditional           N   \n",
       "\n",
       "  EXPEDITEDREVIEW                                         DEVICENAME  \n",
       "0             NaN                     OHMEDA INOVENT DELIVERY SYSTEM  \n",
       "1             NaN  WALLGRAFT TRACHEOBRONCHIAL ENDOPROSTHESIS AND ...  \n",
       "2             NaN  UROSURGE PERCUTANEOUS SANS (STOLLER AFFERENT N...  \n",
       "3             NaN             MAGNA 5000 PHASED ARRAY CTL SPINE COIL  \n",
       "4             NaN                     TORNIER TOTAL ELBOW PROSTHESIS  \n",
       "\n",
       "[5 rows x 22 columns]"
      ]
     },
     "execution_count": 30,
     "metadata": {},
     "output_type": "execute_result"
    }
   ],
   "source": [
    "knumbers.head()"
   ]
  },
  {
   "cell_type": "code",
   "execution_count": 31,
   "metadata": {},
   "outputs": [],
   "source": [
    "knumbers = knumbers[['DECISIONDATE','KNUMBER']]"
   ]
  },
  {
   "cell_type": "code",
   "execution_count": 36,
   "metadata": {},
   "outputs": [],
   "source": [
    "knumbers['DECISIONDATE'] = pd.to_datetime(knumbers['DECISIONDATE'])\n",
    "knumbers['DECISIONDATE'] = knumbers['DECISIONDATE'].dt.year"
   ]
  },
  {
   "cell_type": "code",
   "execution_count": 37,
   "metadata": {},
   "outputs": [
    {
     "data": {
      "text/html": [
       "<div>\n",
       "<style scoped>\n",
       "    .dataframe tbody tr th:only-of-type {\n",
       "        vertical-align: middle;\n",
       "    }\n",
       "\n",
       "    .dataframe tbody tr th {\n",
       "        vertical-align: top;\n",
       "    }\n",
       "\n",
       "    .dataframe thead th {\n",
       "        text-align: right;\n",
       "    }\n",
       "</style>\n",
       "<table border=\"1\" class=\"dataframe\">\n",
       "  <thead>\n",
       "    <tr style=\"text-align: right;\">\n",
       "      <th></th>\n",
       "      <th>DECISIONDATE</th>\n",
       "      <th>KNUMBER</th>\n",
       "    </tr>\n",
       "  </thead>\n",
       "  <tbody>\n",
       "    <tr>\n",
       "      <th>0</th>\n",
       "      <td>2000</td>\n",
       "      <td>DEN000001</td>\n",
       "    </tr>\n",
       "    <tr>\n",
       "      <th>1</th>\n",
       "      <td>2000</td>\n",
       "      <td>K000001</td>\n",
       "    </tr>\n",
       "    <tr>\n",
       "      <th>2</th>\n",
       "      <td>2000</td>\n",
       "      <td>DEN000002</td>\n",
       "    </tr>\n",
       "    <tr>\n",
       "      <th>3</th>\n",
       "      <td>2000</td>\n",
       "      <td>K000002</td>\n",
       "    </tr>\n",
       "    <tr>\n",
       "      <th>4</th>\n",
       "      <td>2000</td>\n",
       "      <td>K000003</td>\n",
       "    </tr>\n",
       "  </tbody>\n",
       "</table>\n",
       "</div>"
      ],
      "text/plain": [
       "   DECISIONDATE    KNUMBER\n",
       "0          2000  DEN000001\n",
       "1          2000    K000001\n",
       "2          2000  DEN000002\n",
       "3          2000    K000002\n",
       "4          2000    K000003"
      ]
     },
     "execution_count": 37,
     "metadata": {},
     "output_type": "execute_result"
    }
   ],
   "source": [
    "knumbers.head()"
   ]
  },
  {
   "cell_type": "code",
   "execution_count": 49,
   "metadata": {},
   "outputs": [
    {
     "name": "stdout",
     "output_type": "stream",
     "text": [
      "<class 'pandas.core.frame.DataFrame'>\n",
      "RangeIndex: 81407 entries, 0 to 81406\n",
      "Data columns (total 2 columns):\n",
      " #   Column        Non-Null Count  Dtype \n",
      "---  ------        --------------  ----- \n",
      " 0   DECISIONDATE  81407 non-null  int64 \n",
      " 1   KNUMBER       81407 non-null  object\n",
      "dtypes: int64(1), object(1)\n",
      "memory usage: 1.2+ MB\n"
     ]
    }
   ],
   "source": [
    "knumbers.info(verbose = True)"
   ]
  },
  {
   "cell_type": "code",
   "execution_count": 50,
   "metadata": {},
   "outputs": [],
   "source": [
    "knumbers['DECISIONDATE'] = knumbers['DECISIONDATE'].astype(str)\n",
    "knumbers['KNUMBER'] = knumbers['KNUMBER'].astype(str)"
   ]
  },
  {
   "cell_type": "code",
   "execution_count": 51,
   "metadata": {},
   "outputs": [],
   "source": [
    "date_number_pairs = list(zip(knumbers.DECISIONDATE, knumbers.KNUMBER))"
   ]
  },
  {
   "cell_type": "code",
   "execution_count": 52,
   "metadata": {},
   "outputs": [],
   "source": [
    "URL = 'https://www.accessdata.fda.gov/cdrh_docs/pdf{}/{}.pdf'"
   ]
  },
  {
   "cell_type": "code",
   "execution_count": 73,
   "metadata": {},
   "outputs": [],
   "source": [
    "write_file = open('/Users/kevinmcpherson/tractus/text_data/510k_urls.txt', 'w+t', encoding= 'utf8')\n",
    "with write_file as w: \n",
    "    for date, number in date_number_pairs:\n",
    "        w.write(URL.format(date[-2:],number)+'\\n')\n",
    "    w.close()"
   ]
  },
  {
   "cell_type": "code",
   "execution_count": 74,
   "metadata": {},
   "outputs": [],
   "source": [
    "open_file = open('/Users/kevinmcpherson/tractus/text_data/510k_urls.txt', 'r')"
   ]
  },
  {
   "cell_type": "code",
   "execution_count": null,
   "metadata": {},
   "outputs": [],
   "source": [
    "with open_file as o:\n",
    "    for url in url.file:\n",
    "        urllib.request(url)"
   ]
  }
 ],
 "metadata": {
  "kernelspec": {
   "display_name": "Python 3",
   "language": "python",
   "name": "python3"
  },
  "language_info": {
   "codemirror_mode": {
    "name": "ipython",
    "version": 3
   },
   "file_extension": ".py",
   "mimetype": "text/x-python",
   "name": "python",
   "nbconvert_exporter": "python",
   "pygments_lexer": "ipython3",
   "version": "3.8.5"
  }
 },
 "nbformat": 4,
 "nbformat_minor": 4
}
