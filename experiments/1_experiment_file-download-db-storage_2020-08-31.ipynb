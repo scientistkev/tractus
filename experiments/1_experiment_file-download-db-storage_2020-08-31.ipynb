{
 "cells": [
  {
   "cell_type": "markdown",
   "metadata": {},
   "source": [
    "# Part 1: File Download, Database Storage"
   ]
  },
  {
   "cell_type": "markdown",
   "metadata": {},
   "source": [
    "## Import relevant libraries"
   ]
  },
  {
   "cell_type": "code",
   "execution_count": 1,
   "metadata": {},
   "outputs": [],
   "source": [
    "import pandas as pd\n",
    "import csv\n",
    "import requests\n",
    "from bs4 import BeautifulSoup"
   ]
  },
  {
   "cell_type": "markdown",
   "metadata": {},
   "source": [
    "## Edit the Pipe Delimited 510k text database"
   ]
  },
  {
   "cell_type": "code",
   "execution_count": 16,
   "metadata": {},
   "outputs": [],
   "source": [
    "read_file = open('/Users/kevinmcpherson/tractus/text_data/510k.txt','rt', errors = 'ignore')"
   ]
  },
  {
   "cell_type": "code",
   "execution_count": 17,
   "metadata": {},
   "outputs": [],
   "source": [
    "write_file = open('/Users/kevinmcpherson/tractus/csv_data/510k.csv', 'w+t', encoding= 'utf8')"
   ]
  },
  {
   "cell_type": "code",
   "execution_count": 18,
   "metadata": {},
   "outputs": [],
   "source": [
    "with read_file:\n",
    "    with write_file:\n",
    "        csv.writer(write_file, delimiter=',').writerows(csv.reader(read_file, delimiter='|'))"
   ]
  },
  {
   "cell_type": "markdown",
   "metadata": {},
   "source": [
    "## Reassign Write File to DataFrame and Get K-Numbers"
   ]
  },
  {
   "cell_type": "code",
   "execution_count": 19,
   "metadata": {},
   "outputs": [],
   "source": [
    "knumbers = pd.read_csv('/Users/kevinmcpherson/tractus/csv_data/510k.csv')"
   ]
  },
  {
   "cell_type": "code",
   "execution_count": 20,
   "metadata": {
    "scrolled": true
   },
   "outputs": [
    {
     "data": {
      "text/html": [
       "<div>\n",
       "<style scoped>\n",
       "    .dataframe tbody tr th:only-of-type {\n",
       "        vertical-align: middle;\n",
       "    }\n",
       "\n",
       "    .dataframe tbody tr th {\n",
       "        vertical-align: top;\n",
       "    }\n",
       "\n",
       "    .dataframe thead th {\n",
       "        text-align: right;\n",
       "    }\n",
       "</style>\n",
       "<table border=\"1\" class=\"dataframe\">\n",
       "  <thead>\n",
       "    <tr style=\"text-align: right;\">\n",
       "      <th></th>\n",
       "      <th>KNUMBER</th>\n",
       "      <th>APPLICANT</th>\n",
       "      <th>CONTACT</th>\n",
       "      <th>STREET1</th>\n",
       "      <th>STREET2</th>\n",
       "      <th>CITY</th>\n",
       "      <th>STATE</th>\n",
       "      <th>COUNTRY_CODE</th>\n",
       "      <th>ZIP</th>\n",
       "      <th>POSTAL_CODE</th>\n",
       "      <th>...</th>\n",
       "      <th>DECISION</th>\n",
       "      <th>REVIEWADVISECOMM</th>\n",
       "      <th>PRODUCTCODE</th>\n",
       "      <th>STATEORSUMM</th>\n",
       "      <th>CLASSADVISECOMM</th>\n",
       "      <th>SSPINDICATOR</th>\n",
       "      <th>TYPE</th>\n",
       "      <th>THIRDPARTY</th>\n",
       "      <th>EXPEDITEDREVIEW</th>\n",
       "      <th>DEVICENAME</th>\n",
       "    </tr>\n",
       "  </thead>\n",
       "  <tbody>\n",
       "    <tr>\n",
       "      <th>0</th>\n",
       "      <td>DEN000001</td>\n",
       "      <td>OHMEDA MEDICAL</td>\n",
       "      <td>DANIEL  KOSEDNAR</td>\n",
       "      <td>P.O. BOX 7550</td>\n",
       "      <td>NaN</td>\n",
       "      <td>MADISON</td>\n",
       "      <td>WI</td>\n",
       "      <td>US</td>\n",
       "      <td>53707-7550</td>\n",
       "      <td>53707-7550</td>\n",
       "      <td>...</td>\n",
       "      <td>DENG</td>\n",
       "      <td>AN</td>\n",
       "      <td>MRN</td>\n",
       "      <td>NaN</td>\n",
       "      <td>AN</td>\n",
       "      <td>NaN</td>\n",
       "      <td>Post-NSE</td>\n",
       "      <td>N</td>\n",
       "      <td>NaN</td>\n",
       "      <td>OHMEDA INOVENT DELIVERY SYSTEM</td>\n",
       "    </tr>\n",
       "    <tr>\n",
       "      <th>1</th>\n",
       "      <td>K000001</td>\n",
       "      <td>BOSTON SCIENTIFIC SCIMED, INC.</td>\n",
       "      <td>RON  BENNETT</td>\n",
       "      <td>5905 NATHAN LN.</td>\n",
       "      <td>NaN</td>\n",
       "      <td>MINNEAPOLIS</td>\n",
       "      <td>MN</td>\n",
       "      <td>US</td>\n",
       "      <td>55442</td>\n",
       "      <td>55442</td>\n",
       "      <td>...</td>\n",
       "      <td>SESE</td>\n",
       "      <td>SU</td>\n",
       "      <td>JCT</td>\n",
       "      <td>Summary</td>\n",
       "      <td>SU</td>\n",
       "      <td>NaN</td>\n",
       "      <td>Traditional</td>\n",
       "      <td>N</td>\n",
       "      <td>NaN</td>\n",
       "      <td>WALLGRAFT TRACHEOBRONCHIAL ENDOPROSTHESIS AND ...</td>\n",
       "    </tr>\n",
       "    <tr>\n",
       "      <th>2</th>\n",
       "      <td>DEN000002</td>\n",
       "      <td>UROSURGE, INC.</td>\n",
       "      <td>STEVEN J PREISS</td>\n",
       "      <td>2660 CROSSPARK RD.</td>\n",
       "      <td>NaN</td>\n",
       "      <td>CORALVILLE</td>\n",
       "      <td>IA</td>\n",
       "      <td>US</td>\n",
       "      <td>52241</td>\n",
       "      <td>52241</td>\n",
       "      <td>...</td>\n",
       "      <td>DENG</td>\n",
       "      <td>GU</td>\n",
       "      <td>NAM</td>\n",
       "      <td>NaN</td>\n",
       "      <td>GU</td>\n",
       "      <td>NaN</td>\n",
       "      <td>Post-NSE</td>\n",
       "      <td>N</td>\n",
       "      <td>NaN</td>\n",
       "      <td>UROSURGE PERCUTANEOUS SANS (STOLLER AFFERENT N...</td>\n",
       "    </tr>\n",
       "    <tr>\n",
       "      <th>3</th>\n",
       "      <td>K000002</td>\n",
       "      <td>USA INSTRUMENTS, INC.</td>\n",
       "      <td>RONY  THOMAS</td>\n",
       "      <td>1515 DANNER DR.</td>\n",
       "      <td>NaN</td>\n",
       "      <td>AURORA</td>\n",
       "      <td>OH</td>\n",
       "      <td>US</td>\n",
       "      <td>44202</td>\n",
       "      <td>44202</td>\n",
       "      <td>...</td>\n",
       "      <td>SESE</td>\n",
       "      <td>RA</td>\n",
       "      <td>MOS</td>\n",
       "      <td>Summary</td>\n",
       "      <td>RA</td>\n",
       "      <td>NaN</td>\n",
       "      <td>Traditional</td>\n",
       "      <td>N</td>\n",
       "      <td>NaN</td>\n",
       "      <td>MAGNA 5000 PHASED ARRAY CTL SPINE COIL</td>\n",
       "    </tr>\n",
       "    <tr>\n",
       "      <th>4</th>\n",
       "      <td>K000003</td>\n",
       "      <td>TORNIER</td>\n",
       "      <td>DAVID W SCHLERF</td>\n",
       "      <td>200 GREGORY LN.</td>\n",
       "      <td>SUITE C-100</td>\n",
       "      <td>PLEASANT HILL</td>\n",
       "      <td>CA</td>\n",
       "      <td>US</td>\n",
       "      <td>94523-3389</td>\n",
       "      <td>94523-3389</td>\n",
       "      <td>...</td>\n",
       "      <td>SESE</td>\n",
       "      <td>OR</td>\n",
       "      <td>JDC</td>\n",
       "      <td>Summary</td>\n",
       "      <td>OR</td>\n",
       "      <td>NaN</td>\n",
       "      <td>Traditional</td>\n",
       "      <td>N</td>\n",
       "      <td>NaN</td>\n",
       "      <td>TORNIER TOTAL ELBOW PROSTHESIS</td>\n",
       "    </tr>\n",
       "  </tbody>\n",
       "</table>\n",
       "<p>5 rows × 22 columns</p>\n",
       "</div>"
      ],
      "text/plain": [
       "     KNUMBER                       APPLICANT           CONTACT  \\\n",
       "0  DEN000001                  OHMEDA MEDICAL  DANIEL  KOSEDNAR   \n",
       "1    K000001  BOSTON SCIENTIFIC SCIMED, INC.      RON  BENNETT   \n",
       "2  DEN000002                  UROSURGE, INC.   STEVEN J PREISS   \n",
       "3    K000002           USA INSTRUMENTS, INC.      RONY  THOMAS   \n",
       "4    K000003                         TORNIER   DAVID W SCHLERF   \n",
       "\n",
       "              STREET1      STREET2           CITY STATE COUNTRY_CODE  \\\n",
       "0       P.O. BOX 7550          NaN        MADISON    WI           US   \n",
       "1     5905 NATHAN LN.          NaN    MINNEAPOLIS    MN           US   \n",
       "2  2660 CROSSPARK RD.          NaN     CORALVILLE    IA           US   \n",
       "3     1515 DANNER DR.          NaN         AURORA    OH           US   \n",
       "4     200 GREGORY LN.  SUITE C-100  PLEASANT HILL    CA           US   \n",
       "\n",
       "          ZIP POSTAL_CODE  ... DECISION REVIEWADVISECOMM PRODUCTCODE  \\\n",
       "0  53707-7550  53707-7550  ...     DENG               AN         MRN   \n",
       "1       55442       55442  ...     SESE               SU         JCT   \n",
       "2       52241       52241  ...     DENG               GU         NAM   \n",
       "3       44202       44202  ...     SESE               RA         MOS   \n",
       "4  94523-3389  94523-3389  ...     SESE               OR         JDC   \n",
       "\n",
       "  STATEORSUMM CLASSADVISECOMM SSPINDICATOR         TYPE  THIRDPARTY  \\\n",
       "0         NaN              AN          NaN     Post-NSE           N   \n",
       "1     Summary              SU          NaN  Traditional           N   \n",
       "2         NaN              GU          NaN     Post-NSE           N   \n",
       "3     Summary              RA          NaN  Traditional           N   \n",
       "4     Summary              OR          NaN  Traditional           N   \n",
       "\n",
       "  EXPEDITEDREVIEW                                         DEVICENAME  \n",
       "0             NaN                     OHMEDA INOVENT DELIVERY SYSTEM  \n",
       "1             NaN  WALLGRAFT TRACHEOBRONCHIAL ENDOPROSTHESIS AND ...  \n",
       "2             NaN  UROSURGE PERCUTANEOUS SANS (STOLLER AFFERENT N...  \n",
       "3             NaN             MAGNA 5000 PHASED ARRAY CTL SPINE COIL  \n",
       "4             NaN                     TORNIER TOTAL ELBOW PROSTHESIS  \n",
       "\n",
       "[5 rows x 22 columns]"
      ]
     },
     "execution_count": 20,
     "metadata": {},
     "output_type": "execute_result"
    }
   ],
   "source": [
    "knumbers.dropna(how = 'any')\n",
    "knumbers.head()"
   ]
  },
  {
   "cell_type": "code",
   "execution_count": 21,
   "metadata": {},
   "outputs": [],
   "source": [
    "codes = knumbers['PRODUCTCODE'].unique().tolist()\n",
    "\n",
    "with open(\"prodcodes.txt\", \"w\") as output:\n",
    "    output.write(str(codes))"
   ]
  },
  {
   "cell_type": "code",
   "execution_count": 8,
   "metadata": {},
   "outputs": [],
   "source": [
    "knumbers = knumbers[['DECISIONDATE','KNUMBER']]"
   ]
  },
  {
   "cell_type": "code",
   "execution_count": 9,
   "metadata": {},
   "outputs": [],
   "source": [
    "knumbers['DECISIONDATE'] = pd.to_datetime(knumbers['DECISIONDATE'])\n",
    "knumbers['DECISIONDATE'] = knumbers['DECISIONDATE'].dt.year"
   ]
  },
  {
   "cell_type": "code",
   "execution_count": 10,
   "metadata": {
    "scrolled": true
   },
   "outputs": [
    {
     "data": {
      "text/html": [
       "<div>\n",
       "<style scoped>\n",
       "    .dataframe tbody tr th:only-of-type {\n",
       "        vertical-align: middle;\n",
       "    }\n",
       "\n",
       "    .dataframe tbody tr th {\n",
       "        vertical-align: top;\n",
       "    }\n",
       "\n",
       "    .dataframe thead th {\n",
       "        text-align: right;\n",
       "    }\n",
       "</style>\n",
       "<table border=\"1\" class=\"dataframe\">\n",
       "  <thead>\n",
       "    <tr style=\"text-align: right;\">\n",
       "      <th></th>\n",
       "      <th>DECISIONDATE</th>\n",
       "      <th>KNUMBER</th>\n",
       "    </tr>\n",
       "  </thead>\n",
       "  <tbody>\n",
       "    <tr>\n",
       "      <th>0</th>\n",
       "      <td>2000</td>\n",
       "      <td>DEN000001</td>\n",
       "    </tr>\n",
       "    <tr>\n",
       "      <th>1</th>\n",
       "      <td>2000</td>\n",
       "      <td>K000001</td>\n",
       "    </tr>\n",
       "    <tr>\n",
       "      <th>2</th>\n",
       "      <td>2000</td>\n",
       "      <td>DEN000002</td>\n",
       "    </tr>\n",
       "    <tr>\n",
       "      <th>3</th>\n",
       "      <td>2000</td>\n",
       "      <td>K000002</td>\n",
       "    </tr>\n",
       "    <tr>\n",
       "      <th>4</th>\n",
       "      <td>2000</td>\n",
       "      <td>K000003</td>\n",
       "    </tr>\n",
       "  </tbody>\n",
       "</table>\n",
       "</div>"
      ],
      "text/plain": [
       "   DECISIONDATE    KNUMBER\n",
       "0          2000  DEN000001\n",
       "1          2000    K000001\n",
       "2          2000  DEN000002\n",
       "3          2000    K000002\n",
       "4          2000    K000003"
      ]
     },
     "execution_count": 10,
     "metadata": {},
     "output_type": "execute_result"
    }
   ],
   "source": [
    "knumbers.head()"
   ]
  },
  {
   "cell_type": "code",
   "execution_count": 13,
   "metadata": {},
   "outputs": [
    {
     "data": {
      "text/html": [
       "<div>\n",
       "<style scoped>\n",
       "    .dataframe tbody tr th:only-of-type {\n",
       "        vertical-align: middle;\n",
       "    }\n",
       "\n",
       "    .dataframe tbody tr th {\n",
       "        vertical-align: top;\n",
       "    }\n",
       "\n",
       "    .dataframe thead th {\n",
       "        text-align: right;\n",
       "    }\n",
       "</style>\n",
       "<table border=\"1\" class=\"dataframe\">\n",
       "  <thead>\n",
       "    <tr style=\"text-align: right;\">\n",
       "      <th></th>\n",
       "      <th>KNUMBER</th>\n",
       "    </tr>\n",
       "    <tr>\n",
       "      <th>DECISIONDATE</th>\n",
       "      <th></th>\n",
       "    </tr>\n",
       "  </thead>\n",
       "  <tbody>\n",
       "    <tr>\n",
       "      <th>1996</th>\n",
       "      <td>4407</td>\n",
       "    </tr>\n",
       "    <tr>\n",
       "      <th>1997</th>\n",
       "      <td>4309</td>\n",
       "    </tr>\n",
       "    <tr>\n",
       "      <th>1998</th>\n",
       "      <td>3775</td>\n",
       "    </tr>\n",
       "    <tr>\n",
       "      <th>1999</th>\n",
       "      <td>3554</td>\n",
       "    </tr>\n",
       "    <tr>\n",
       "      <th>2000</th>\n",
       "      <td>3452</td>\n",
       "    </tr>\n",
       "    <tr>\n",
       "      <th>2001</th>\n",
       "      <td>3494</td>\n",
       "    </tr>\n",
       "    <tr>\n",
       "      <th>2002</th>\n",
       "      <td>3685</td>\n",
       "    </tr>\n",
       "    <tr>\n",
       "      <th>2003</th>\n",
       "      <td>3516</td>\n",
       "    </tr>\n",
       "    <tr>\n",
       "      <th>2004</th>\n",
       "      <td>3373</td>\n",
       "    </tr>\n",
       "    <tr>\n",
       "      <th>2005</th>\n",
       "      <td>3156</td>\n",
       "    </tr>\n",
       "    <tr>\n",
       "      <th>2006</th>\n",
       "      <td>3217</td>\n",
       "    </tr>\n",
       "    <tr>\n",
       "      <th>2007</th>\n",
       "      <td>2987</td>\n",
       "    </tr>\n",
       "    <tr>\n",
       "      <th>2008</th>\n",
       "      <td>3053</td>\n",
       "    </tr>\n",
       "    <tr>\n",
       "      <th>2009</th>\n",
       "      <td>3008</td>\n",
       "    </tr>\n",
       "    <tr>\n",
       "      <th>2010</th>\n",
       "      <td>2807</td>\n",
       "    </tr>\n",
       "    <tr>\n",
       "      <th>2011</th>\n",
       "      <td>3126</td>\n",
       "    </tr>\n",
       "    <tr>\n",
       "      <th>2012</th>\n",
       "      <td>3137</td>\n",
       "    </tr>\n",
       "    <tr>\n",
       "      <th>2013</th>\n",
       "      <td>3054</td>\n",
       "    </tr>\n",
       "    <tr>\n",
       "      <th>2014</th>\n",
       "      <td>3204</td>\n",
       "    </tr>\n",
       "    <tr>\n",
       "      <th>2015</th>\n",
       "      <td>3024</td>\n",
       "    </tr>\n",
       "    <tr>\n",
       "      <th>2016</th>\n",
       "      <td>2957</td>\n",
       "    </tr>\n",
       "    <tr>\n",
       "      <th>2017</th>\n",
       "      <td>3207</td>\n",
       "    </tr>\n",
       "    <tr>\n",
       "      <th>2018</th>\n",
       "      <td>3067</td>\n",
       "    </tr>\n",
       "    <tr>\n",
       "      <th>2019</th>\n",
       "      <td>2918</td>\n",
       "    </tr>\n",
       "    <tr>\n",
       "      <th>2020</th>\n",
       "      <td>1920</td>\n",
       "    </tr>\n",
       "  </tbody>\n",
       "</table>\n",
       "</div>"
      ],
      "text/plain": [
       "              KNUMBER\n",
       "DECISIONDATE         \n",
       "1996             4407\n",
       "1997             4309\n",
       "1998             3775\n",
       "1999             3554\n",
       "2000             3452\n",
       "2001             3494\n",
       "2002             3685\n",
       "2003             3516\n",
       "2004             3373\n",
       "2005             3156\n",
       "2006             3217\n",
       "2007             2987\n",
       "2008             3053\n",
       "2009             3008\n",
       "2010             2807\n",
       "2011             3126\n",
       "2012             3137\n",
       "2013             3054\n",
       "2014             3204\n",
       "2015             3024\n",
       "2016             2957\n",
       "2017             3207\n",
       "2018             3067\n",
       "2019             2918\n",
       "2020             1920"
      ]
     },
     "execution_count": 13,
     "metadata": {},
     "output_type": "execute_result"
    }
   ],
   "source": [
    "knumbers.groupby('DECISIONDATE').count()"
   ]
  },
  {
   "cell_type": "code",
   "execution_count": 18,
   "metadata": {},
   "outputs": [
    {
     "name": "stdout",
     "output_type": "stream",
     "text": [
      "<class 'pandas.core.frame.DataFrame'>\n",
      "RangeIndex: 81407 entries, 0 to 81406\n",
      "Data columns (total 2 columns):\n",
      " #   Column        Non-Null Count  Dtype \n",
      "---  ------        --------------  ----- \n",
      " 0   DECISIONDATE  81407 non-null  int64 \n",
      " 1   KNUMBER       81407 non-null  object\n",
      "dtypes: int64(1), object(1)\n",
      "memory usage: 1.2+ MB\n"
     ]
    }
   ],
   "source": [
    "knumbers.info(verbose = True)"
   ]
  },
  {
   "cell_type": "code",
   "execution_count": 19,
   "metadata": {},
   "outputs": [],
   "source": [
    "# knumbers['DECISIONDATE'] = knumbers['DECISIONDATE'].astype(str)\n",
    "# knumbers['KNUMBER'] = knumbers['KNUMBER'].astype(str)"
   ]
  },
  {
   "cell_type": "code",
   "execution_count": 20,
   "metadata": {},
   "outputs": [],
   "source": [
    "date_number_pairs = list(zip(knumbers.DECISIONDATE, knumbers.KNUMBER))"
   ]
  },
  {
   "cell_type": "code",
   "execution_count": 21,
   "metadata": {},
   "outputs": [],
   "source": [
    "URL = 'https://www.accessdata.fda.gov/cdrh_docs/reviews/{}.pdf'"
   ]
  },
  {
   "cell_type": "code",
   "execution_count": 23,
   "metadata": {},
   "outputs": [],
   "source": [
    "write_file = open('/Users/kevinmcpherson/tractus/text_data/reviews_urls.txt', 'w+t', encoding= 'utf8')\n",
    "with write_file as w: \n",
    "    for date, number in date_number_pairs:\n",
    "#         if date > 2009:\n",
    "#             w.write(URL.format(str(number)+'\\n')\n",
    "#         elif date < 2009 and date > 2001:\n",
    "#             w.write(URL.format(str(number)+'\\n')\n",
    "#         else:\n",
    "            w.write(URL.format(number)+'\\n')\n",
    "    w.close()"
   ]
  },
  {
   "cell_type": "code",
   "execution_count": 24,
   "metadata": {},
   "outputs": [],
   "source": [
    "# open_file = open('/Users/kevinmcpherson/tractus/text_data/510k_urls.txt', 'r')\n",
    "open_file = open('/Users/kevinmcpherson/tractus/text_data/reviews_urls.txt', 'r')"
   ]
  },
  {
   "cell_type": "code",
   "execution_count": 88,
   "metadata": {},
   "outputs": [
    {
     "ename": "NameError",
     "evalue": "name 'url' is not defined",
     "output_type": "error",
     "traceback": [
      "\u001b[0;31m---------------------------------------------------------------------------\u001b[0m",
      "\u001b[0;31mNameError\u001b[0m                                 Traceback (most recent call last)",
      "\u001b[0;32m<ipython-input-88-c0504caaf52d>\u001b[0m in \u001b[0;36m<module>\u001b[0;34m\u001b[0m\n\u001b[1;32m      1\u001b[0m \u001b[0;32mwith\u001b[0m \u001b[0mopen_file\u001b[0m \u001b[0;32mas\u001b[0m \u001b[0mo\u001b[0m\u001b[0;34m:\u001b[0m\u001b[0;34m\u001b[0m\u001b[0;34m\u001b[0m\u001b[0m\n\u001b[0;32m----> 2\u001b[0;31m     \u001b[0;32mfor\u001b[0m \u001b[0murl\u001b[0m \u001b[0;32min\u001b[0m \u001b[0murl\u001b[0m\u001b[0;34m.\u001b[0m\u001b[0mfile\u001b[0m\u001b[0;34m:\u001b[0m\u001b[0;34m\u001b[0m\u001b[0;34m\u001b[0m\u001b[0m\n\u001b[0m\u001b[1;32m      3\u001b[0m         \u001b[0murllib\u001b[0m\u001b[0;34m.\u001b[0m\u001b[0mrequest\u001b[0m\u001b[0;34m(\u001b[0m\u001b[0murl\u001b[0m\u001b[0;34m)\u001b[0m\u001b[0;34m\u001b[0m\u001b[0;34m\u001b[0m\u001b[0m\n",
      "\u001b[0;31mNameError\u001b[0m: name 'url' is not defined"
     ]
    }
   ],
   "source": [
    "with open_file as o:\n",
    "    for url in url.file:\n",
    "        urllib.request(url)"
   ]
  },
  {
   "cell_type": "code",
   "execution_count": null,
   "metadata": {},
   "outputs": [],
   "source": []
  }
 ],
 "metadata": {
  "kernelspec": {
   "display_name": "Python 3",
   "language": "python",
   "name": "python3"
  },
  "language_info": {
   "codemirror_mode": {
    "name": "ipython",
    "version": 3
   },
   "file_extension": ".py",
   "mimetype": "text/x-python",
   "name": "python",
   "nbconvert_exporter": "python",
   "pygments_lexer": "ipython3",
   "version": "3.8.5"
  }
 },
 "nbformat": 4,
 "nbformat_minor": 4
}
